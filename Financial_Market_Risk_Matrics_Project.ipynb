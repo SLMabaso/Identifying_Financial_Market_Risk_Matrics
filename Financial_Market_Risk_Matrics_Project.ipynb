{
 "cells": [
  {
   "cell_type": "markdown",
   "metadata": {},
   "source": [
    "### Problem Statement \n",
    "\n",
    "Financial markets are inherently volatile, and the ability to quantify and manage this volatility is critical for investors. The S&P 500 and Russell 2000 indices, representing large-cap and small-cap stocks, respectively, serve as benchmarks for different segments of the market. Understanding the risks associated with these indices is essential for portfolio management, asset allocation, and investment decision-making.\n",
    "\n",
    "Traditional volatility metrics, such as standard deviation, fail to capture more nuanced aspects of market risk, such as the frequency and severity of price swings or the existence of different market regimes (e.g., bull and bear markets). Additionally, the distribution of returns in these indices is often non-normal, which presents challenges for accurately modeling and forecasting volatility."
   ]
  },
  {
   "cell_type": "markdown",
   "metadata": {},
   "source": [
    "#### The Objective:\n",
    "\n",
    "Objective:\n",
    "The goal of this project is to:\n",
    "\n",
    "- Identify custom risk and volatility metrics that provide a more comprehensive understanding of financial market behavior, particularly for the S&P 500 and Russell 2000 indices.\n",
    "- Quantify the volatility of returns using these custom metrics and compare them to traditional volatility measures.\n",
    "- Investigate multimodal distribution patterns in the S&P 500 to understand how different market phases contribute to risk.\n",
    "- Provide insights into how investors can use these metrics to assess and manage risk in large-cap (S&P 500) and small-cap (Russell 2000) investments."
   ]
  },
  {
   "cell_type": "code",
   "execution_count": 1,
   "metadata": {},
   "outputs": [],
   "source": [
    "import datetime\n",
    "from datetime import date\n",
    "\n",
    "import numpy as np\n",
    "import pandas as pd\n",
    "import seaborn as sns\n",
    "import yfinance as yfin\n",
    "from matplotlib import pyplot as plt\n",
    "\n",
    "pd.options.display.float_format = \"{:,.6f}\".format"
   ]
  },
  {
   "cell_type": "markdown",
   "metadata": {},
   "source": [
    "### 1.1 Pull 10 years daily price data for S&P 500 and Russell 2000\n",
    "\n",
    "We are interested equities asset classes and to compare them as potential investments. We will start by comparing large cap to small cap stocks using S&P 500 and the Russell 2000 Index.\n",
    "\n",
    "We will build towards a function here which takes a date range and compares two series of returns.\n"
   ]
  },
  {
   "cell_type": "code",
   "execution_count": 2,
   "metadata": {},
   "outputs": [
    {
     "name": "stderr",
     "output_type": "stream",
     "text": [
      "[*********************100%***********************]  2 of 2 completed\n"
     ]
    }
   ],
   "source": [
    "start = datetime.date.today()-datetime.timedelta(365*10)\n",
    "end = datetime.date.today()\n",
    "\n",
    "prices = yfin.download([\"^GSPC\", \"^RUT\"], start, end)[\"Adj Close\"]\n",
    "\n",
    "# Rename column to make names more intuitive\n",
    "prices = prices.rename(columns={\"^GSPC\": \"SP500\", \"^RUT\": \"Russell2000\"})"
   ]
  },
  {
   "cell_type": "code",
   "execution_count": 3,
   "metadata": {},
   "outputs": [
    {
     "data": {
      "text/html": [
       "<div>\n",
       "<style scoped>\n",
       "    .dataframe tbody tr th:only-of-type {\n",
       "        vertical-align: middle;\n",
       "    }\n",
       "\n",
       "    .dataframe tbody tr th {\n",
       "        vertical-align: top;\n",
       "    }\n",
       "\n",
       "    .dataframe thead th {\n",
       "        text-align: right;\n",
       "    }\n",
       "</style>\n",
       "<table border=\"1\" class=\"dataframe\">\n",
       "  <thead>\n",
       "    <tr style=\"text-align: right;\">\n",
       "      <th>Ticker</th>\n",
       "      <th>SP500</th>\n",
       "      <th>Russell2000</th>\n",
       "    </tr>\n",
       "  </thead>\n",
       "  <tbody>\n",
       "    <tr>\n",
       "      <th>count</th>\n",
       "      <td>2,515.000000</td>\n",
       "      <td>2,515.000000</td>\n",
       "    </tr>\n",
       "    <tr>\n",
       "      <th>mean</th>\n",
       "      <td>3,247.043901</td>\n",
       "      <td>1,623.264056</td>\n",
       "    </tr>\n",
       "    <tr>\n",
       "      <th>std</th>\n",
       "      <td>1,016.107802</td>\n",
       "      <td>353.690962</td>\n",
       "    </tr>\n",
       "    <tr>\n",
       "      <th>min</th>\n",
       "      <td>1,829.079956</td>\n",
       "      <td>953.719971</td>\n",
       "    </tr>\n",
       "    <tr>\n",
       "      <th>25%</th>\n",
       "      <td>2,358.705078</td>\n",
       "      <td>1,355.085022</td>\n",
       "    </tr>\n",
       "    <tr>\n",
       "      <th>50%</th>\n",
       "      <td>2,926.459961</td>\n",
       "      <td>1,572.989990</td>\n",
       "    </tr>\n",
       "    <tr>\n",
       "      <th>75%</th>\n",
       "      <td>4,137.135010</td>\n",
       "      <td>1,890.104980</td>\n",
       "    </tr>\n",
       "    <tr>\n",
       "      <th>max</th>\n",
       "      <td>5,713.640137</td>\n",
       "      <td>2,442.739990</td>\n",
       "    </tr>\n",
       "  </tbody>\n",
       "</table>\n",
       "</div>"
      ],
      "text/plain": [
       "Ticker        SP500  Russell2000\n",
       "count  2,515.000000 2,515.000000\n",
       "mean   3,247.043901 1,623.264056\n",
       "std    1,016.107802   353.690962\n",
       "min    1,829.079956   953.719971\n",
       "25%    2,358.705078 1,355.085022\n",
       "50%    2,926.459961 1,572.989990\n",
       "75%    4,137.135010 1,890.104980\n",
       "max    5,713.640137 2,442.739990"
      ]
     },
     "execution_count": 3,
     "metadata": {},
     "output_type": "execute_result"
    }
   ],
   "source": [
    "prices.describe()"
   ]
  },
  {
   "cell_type": "code",
   "execution_count": 4,
   "metadata": {},
   "outputs": [
    {
     "data": {
      "text/html": [
       "<div>\n",
       "<style scoped>\n",
       "    .dataframe tbody tr th:only-of-type {\n",
       "        vertical-align: middle;\n",
       "    }\n",
       "\n",
       "    .dataframe tbody tr th {\n",
       "        vertical-align: top;\n",
       "    }\n",
       "\n",
       "    .dataframe thead th {\n",
       "        text-align: right;\n",
       "    }\n",
       "</style>\n",
       "<table border=\"1\" class=\"dataframe\">\n",
       "  <thead>\n",
       "    <tr style=\"text-align: right;\">\n",
       "      <th>Ticker</th>\n",
       "      <th>SP500</th>\n",
       "      <th>Russell2000</th>\n",
       "    </tr>\n",
       "    <tr>\n",
       "      <th>Date</th>\n",
       "      <th></th>\n",
       "      <th></th>\n",
       "    </tr>\n",
       "  </thead>\n",
       "  <tbody>\n",
       "    <tr>\n",
       "      <th>2014-09-23 00:00:00+00:00</th>\n",
       "      <td>1,982.770020</td>\n",
       "      <td>1,118.719971</td>\n",
       "    </tr>\n",
       "    <tr>\n",
       "      <th>2014-09-24 00:00:00+00:00</th>\n",
       "      <td>1,998.300049</td>\n",
       "      <td>1,128.310059</td>\n",
       "    </tr>\n",
       "    <tr>\n",
       "      <th>2014-09-25 00:00:00+00:00</th>\n",
       "      <td>1,965.989990</td>\n",
       "      <td>1,110.239990</td>\n",
       "    </tr>\n",
       "    <tr>\n",
       "      <th>2014-09-26 00:00:00+00:00</th>\n",
       "      <td>1,982.849976</td>\n",
       "      <td>1,119.329956</td>\n",
       "    </tr>\n",
       "    <tr>\n",
       "      <th>2014-09-29 00:00:00+00:00</th>\n",
       "      <td>1,977.800049</td>\n",
       "      <td>1,117.910034</td>\n",
       "    </tr>\n",
       "    <tr>\n",
       "      <th>2014-09-30 00:00:00+00:00</th>\n",
       "      <td>1,972.290039</td>\n",
       "      <td>1,101.680054</td>\n",
       "    </tr>\n",
       "    <tr>\n",
       "      <th>2014-10-01 00:00:00+00:00</th>\n",
       "      <td>1,946.160034</td>\n",
       "      <td>1,085.410034</td>\n",
       "    </tr>\n",
       "    <tr>\n",
       "      <th>2014-10-02 00:00:00+00:00</th>\n",
       "      <td>1,946.170044</td>\n",
       "      <td>1,096.380005</td>\n",
       "    </tr>\n",
       "    <tr>\n",
       "      <th>2014-10-03 00:00:00+00:00</th>\n",
       "      <td>1,967.900024</td>\n",
       "      <td>1,104.739990</td>\n",
       "    </tr>\n",
       "    <tr>\n",
       "      <th>2014-10-06 00:00:00+00:00</th>\n",
       "      <td>1,964.819946</td>\n",
       "      <td>1,094.650024</td>\n",
       "    </tr>\n",
       "  </tbody>\n",
       "</table>\n",
       "</div>"
      ],
      "text/plain": [
       "Ticker                           SP500  Russell2000\n",
       "Date                                               \n",
       "2014-09-23 00:00:00+00:00 1,982.770020 1,118.719971\n",
       "2014-09-24 00:00:00+00:00 1,998.300049 1,128.310059\n",
       "2014-09-25 00:00:00+00:00 1,965.989990 1,110.239990\n",
       "2014-09-26 00:00:00+00:00 1,982.849976 1,119.329956\n",
       "2014-09-29 00:00:00+00:00 1,977.800049 1,117.910034\n",
       "2014-09-30 00:00:00+00:00 1,972.290039 1,101.680054\n",
       "2014-10-01 00:00:00+00:00 1,946.160034 1,085.410034\n",
       "2014-10-02 00:00:00+00:00 1,946.170044 1,096.380005\n",
       "2014-10-03 00:00:00+00:00 1,967.900024 1,104.739990\n",
       "2014-10-06 00:00:00+00:00 1,964.819946 1,094.650024"
      ]
     },
     "execution_count": 4,
     "metadata": {},
     "output_type": "execute_result"
    }
   ],
   "source": [
    "prices.head(10)"
   ]
  },
  {
   "cell_type": "markdown",
   "metadata": {},
   "source": [
    "We have similar sized dataset for both SP500 and Russell2000 with 2515 rows. From the first 10 rows we do not \n",
    "observe any inconsistencies witht he dataset however, we will check for any missing values and visualize the data to check if there\n",
    "is a need for starndardizing the dataset."
   ]
  },
  {
   "cell_type": "code",
   "execution_count": 5,
   "metadata": {},
   "outputs": [
    {
     "name": "stdout",
     "output_type": "stream",
     "text": [
      "Ticker\n",
      "SP500          0\n",
      "Russell2000    0\n",
      "dtype: int64\n"
     ]
    }
   ],
   "source": [
    "# Check for missing values in the dataset\n",
    "missing_values = prices.isnull().sum()\n",
    "print(missing_values)\n"
   ]
  },
  {
   "cell_type": "code",
   "execution_count": 6,
   "metadata": {},
   "outputs": [
    {
     "name": "stdout",
     "output_type": "stream",
     "text": [
      "Number of duplicate rows: 0\n"
     ]
    }
   ],
   "source": [
    "# Check for duplicate rows\n",
    "duplicates = prices.duplicated().sum()\n",
    "print(f\"Number of duplicate rows: {duplicates}\")\n",
    "\n",
    "# Drop duplicate rows if any\n",
    "prices_cleaned = prices.drop_duplicates()\n"
   ]
  },
  {
   "cell_type": "markdown",
   "metadata": {},
   "source": [
    "We do not have any missing values or dupplicated rows in our dataset. We can then proceed to check the distribution of the data if the are any \n",
    "Ourliers to be concerned about"
   ]
  },
  {
   "cell_type": "code",
   "execution_count": 7,
   "metadata": {},
   "outputs": [
    {
     "name": "stdout",
     "output_type": "stream",
     "text": [
      "Ticker        SP500  Russell2000\n",
      "count  2,515.000000 2,515.000000\n",
      "mean   3,247.043901 1,623.264056\n",
      "std    1,016.107802   353.690962\n",
      "min    1,829.079956   953.719971\n",
      "25%    2,358.705078 1,355.085022\n",
      "50%    2,926.459961 1,572.989990\n",
      "75%    4,137.135010 1,890.104980\n",
      "max    5,713.640137 2,442.739990\n"
     ]
    },
    {
     "data": {
      "image/png": "[encoded data removed]",
      "text/plain": [
       "<Figure size 640x480 with 1 Axes>"
      ]
     },
     "metadata": {},
     "output_type": "display_data"
    }
   ],
   "source": [
    "# Quick summary to check for outliers\n",
    "print(prices.describe())\n",
    "\n",
    "# Alternatively, use boxplot to visually identify outliers\n",
    "import matplotlib.pyplot as plt\n",
    "prices.boxplot()\n",
    "plt.show()\n"
   ]
  },
  {
   "cell_type": "markdown",
   "metadata": {},
   "source": [
    "The SP500 data seems to be skewed, let us further investigate the distribution using histogram."
   ]
  },
  {
   "cell_type": "code",
   "execution_count": 8,
   "metadata": {},
   "outputs": [
    {
     "data": {
      "image/png": "[encoded data removed]",
      "text/plain": [
       "<Figure size 640x480 with 1 Axes>"
      ]
     },
     "metadata": {},
     "output_type": "display_data"
    }
   ],
   "source": [
    "# Plot histogram for SP500\n",
    "prices['SP500'].hist(bins=50)\n",
    "plt.title('Distribution of SP500 Prices')\n",
    "plt.xlabel('SP500 Prices')\n",
    "plt.ylabel('Frequency')\n",
    "plt.show()"
   ]
  },
  {
   "cell_type": "markdown",
   "metadata": {},
   "source": [
    "It seems here we have a multimodal distribution for the SP500 dataset. In finance, this could happen when different market regimes (e.g., bull markets, bear markets, corrections, etc.) are present in the dataset. Each market regime might have its own behavior, leading to multiple peaks in the data."
   ]
  },
  {
   "cell_type": "code",
   "execution_count": 9,
   "metadata": {},
   "outputs": [
    {
     "data": {
      "image/png": "[encoded data removed]",
      "text/plain": [
       "<Figure size 640x480 with 1 Axes>"
      ]
     },
     "metadata": {},
     "output_type": "display_data"
    }
   ],
   "source": [
    "# Kernel density estimate (KDE) plot to see the multimodal distribution\n",
    "prices['SP500'].plot(kind='kde', title='KDE Plot of SP500 Prices')\n",
    "plt.show()\n"
   ]
  },
  {
   "cell_type": "markdown",
   "metadata": {},
   "source": [
    "Given the observations above, we can fit a Gaussian Mixture Model (GMM). The GMM will allow you to estimate the parameters (mean and variance) of each underlying normal distribution."
   ]
  }
 ],
 "metadata": {
  "kernelspec": {
   "display_name": "Python 3",
   "language": "python",
   "name": "python3"
  },
  "language_info": {
   "codemirror_mode": {
    "name": "ipython",
    "version": 3
   },
   "file_extension": ".py",
   "mimetype": "text/x-python",
   "name": "python",
   "nbconvert_exporter": "python",
   "pygments_lexer": "ipython3",
   "version": "3.12.3"
  }
 },
 "nbformat": 4,
 "nbformat_minor": 2
}
